{
 "cells": [
  {
   "cell_type": "code",
   "execution_count": 5,
   "source": [
    "f = open('test.txt','r')\r\n",
    "\r\n",
    "print(f.name)\r\n",
    "\r\n",
    "f.close()"
   ],
   "outputs": [
    {
     "output_type": "stream",
     "name": "stdout",
     "text": [
      "test.txt\n"
     ]
    }
   ],
   "metadata": {}
  },
  {
   "cell_type": "code",
   "execution_count": 6,
   "source": [
    "f = open('test.txt','w')\r\n",
    "\r\n",
    "print(f.name)\r\n",
    "\r\n",
    "f.close()"
   ],
   "outputs": [
    {
     "output_type": "stream",
     "name": "stdout",
     "text": [
      "test.txt\n"
     ]
    }
   ],
   "metadata": {}
  },
  {
   "cell_type": "code",
   "execution_count": 7,
   "source": [
    "f = open('test.txt','a')\r\n",
    "\r\n",
    "print(f.name)\r\n",
    "\r\n",
    "f.close()"
   ],
   "outputs": [
    {
     "output_type": "stream",
     "name": "stdout",
     "text": [
      "test.txt\n"
     ]
    }
   ],
   "metadata": {}
  },
  {
   "cell_type": "code",
   "execution_count": 8,
   "source": [
    "f = open('test.txt','r+')\r\n",
    "\r\n",
    "print(f.name)\r\n",
    "\r\n",
    "f.close()"
   ],
   "outputs": [
    {
     "output_type": "stream",
     "name": "stdout",
     "text": [
      "test.txt\n"
     ]
    }
   ],
   "metadata": {}
  },
  {
   "cell_type": "code",
   "execution_count": 11,
   "source": [
    "with open('test.txt','r') as f:\r\n",
    "    pass\r\n",
    "\r\n",
    "print(f.closed)"
   ],
   "outputs": [
    {
     "output_type": "stream",
     "name": "stdout",
     "text": [
      "True\n"
     ]
    }
   ],
   "metadata": {}
  },
  {
   "cell_type": "code",
   "execution_count": 19,
   "source": [
    "with open('test.txt','r') as f:\r\n",
    "        f_contents = f.read()\r\n",
    "        print(f_contents)"
   ],
   "outputs": [
    {
     "output_type": "stream",
     "name": "stdout",
     "text": [
      "This is a test file!\n",
      "With multiple lines of data\n",
      "Third line\n",
      "Fourth line\n",
      "Fifth line\n",
      "Sixth line\n",
      "Seventh line\n",
      "Eight line\n",
      "Ninth line\n",
      "Tenth line\n"
     ]
    }
   ],
   "metadata": {}
  },
  {
   "cell_type": "code",
   "execution_count": 20,
   "source": [
    "with open('test.txt','r') as f:\r\n",
    "        f_contents = f.readlines()\r\n",
    "        print(f_contents)"
   ],
   "outputs": [
    {
     "output_type": "stream",
     "name": "stdout",
     "text": [
      "['This is a test file!\\n', 'With multiple lines of data\\n', 'Third line\\n', 'Fourth line\\n', 'Fifth line\\n', 'Sixth line\\n', 'Seventh line\\n', 'Eight line\\n', 'Ninth line\\n', 'Tenth line']\n"
     ]
    }
   ],
   "metadata": {}
  },
  {
   "cell_type": "code",
   "execution_count": 21,
   "source": [
    "with open('test.txt','r') as f:\r\n",
    "        f_contents = f.readline()\r\n",
    "        print(f_contents)"
   ],
   "outputs": [
    {
     "output_type": "stream",
     "name": "stdout",
     "text": [
      "This is a test file!\n",
      "\n"
     ]
    }
   ],
   "metadata": {}
  },
  {
   "cell_type": "code",
   "execution_count": 35,
   "source": [
    "with open('test.txt','r') as f:\r\n",
    "\r\n",
    "        size_to_read = 100\r\n",
    "\r\n",
    "        f_contents = f.read(size_to_read)\r\n",
    "\r\n",
    "        while len(f_contents) > 0:\r\n",
    "            print(f_contents, end='')\r\n",
    "            f_contents = f.read(size_to_read)"
   ],
   "outputs": [
    {
     "output_type": "stream",
     "name": "stdout",
     "text": [
      "This is a test file!\n",
      "With multiple lines of data\n",
      "Third line\n",
      "Fourth line\n",
      "Fifth line\n",
      "Sixth line\n",
      "Seventh line\n",
      "Eight line\n",
      "Ninth line\n",
      "Tenth line"
     ]
    }
   ],
   "metadata": {}
  },
  {
   "cell_type": "code",
   "execution_count": 37,
   "source": [
    "with open('test.txt','r') as f:\r\n",
    "\r\n",
    "        size_to_read = 10\r\n",
    "\r\n",
    "        f_contents = f.read(size_to_read)\r\n",
    "\r\n",
    "        print(f.tell())"
   ],
   "outputs": [
    {
     "output_type": "stream",
     "name": "stdout",
     "text": [
      "10\n"
     ]
    }
   ],
   "metadata": {}
  },
  {
   "cell_type": "code",
   "execution_count": 39,
   "source": [
    "with open('test.txt','r') as f:\r\n",
    "\r\n",
    "        size_to_read = 10\r\n",
    "\r\n",
    "        f_contents = f.read(size_to_read)       \r\n",
    "        print(f_contents, end='')\r\n",
    "\r\n",
    "        f.seek(0)\r\n",
    "\r\n",
    "        f_contents = f.read(size_to_read)       \r\n",
    "        print(f_contents)\r\n",
    "\r\n",
    "        print(f.tell())"
   ],
   "outputs": [
    {
     "output_type": "stream",
     "name": "stdout",
     "text": [
      "This is a This is a \n",
      "10\n"
     ]
    }
   ],
   "metadata": {}
  },
  {
   "cell_type": "code",
   "execution_count": 41,
   "source": [
    "with open('test2.txt','w') as f:\r\n",
    "    pass"
   ],
   "outputs": [],
   "metadata": {}
  },
  {
   "cell_type": "code",
   "execution_count": 43,
   "source": [
    "with open('test2.txt','w') as f:\r\n",
    "    f.write('Test')\r\n",
    "    f.write('Test')"
   ],
   "outputs": [],
   "metadata": {}
  },
  {
   "cell_type": "code",
   "execution_count": 49,
   "source": [
    "with open('test.txt','r') as rf:\r\n",
    "    with open('test_copy.txt','w') as wf:\r\n",
    "        for line in rf:\r\n",
    "            wf.write(line)"
   ],
   "outputs": [],
   "metadata": {}
  },
  {
   "cell_type": "code",
   "execution_count": 52,
   "source": [
    "with open('DSC_6253.jpg','rb') as rf:\r\n",
    "    with open('DSC_6253_copy.jpg','wb') as wf:\r\n",
    "        for line in rf:\r\n",
    "            wf.write(line)"
   ],
   "outputs": [],
   "metadata": {}
  },
  {
   "cell_type": "code",
   "execution_count": 54,
   "source": [
    "with open('DSC_6253.jpg','rb') as rf:\r\n",
    "    with open('DSC_6253_copy.jpg','wb') as wf:\r\n",
    "        chunk_size = 4096\r\n",
    "        rf_chunk = rf.read(chunk_size)\r\n",
    "        while len(rf_chunk) > 0:\r\n",
    "            wf.write(rf_chunk)\r\n",
    "            rf_chunk = rf.read(chunk_size)\r\n"
   ],
   "outputs": [],
   "metadata": {}
  }
 ],
 "metadata": {
  "orig_nbformat": 4,
  "language_info": {
   "name": "python",
   "version": "3.8.8",
   "mimetype": "text/x-python",
   "codemirror_mode": {
    "name": "ipython",
    "version": 3
   },
   "pygments_lexer": "ipython3",
   "nbconvert_exporter": "python",
   "file_extension": ".py"
  },
  "kernelspec": {
   "name": "python3",
   "display_name": "Python 3.8.8 64-bit ('base': conda)"
  },
  "interpreter": {
   "hash": "f8e1fe0df290e6cb296008413e64546b07c68c1223310af533a63f1548876c7f"
  }
 },
 "nbformat": 4,
 "nbformat_minor": 2
}